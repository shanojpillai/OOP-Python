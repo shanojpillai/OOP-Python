{
  "nbformat": 4,
  "nbformat_minor": 0,
  "metadata": {
    "colab": {
      "provenance": [],
      "authorship_tag": "ABX9TyMKdZvfcXascNItVp42jBew",
      "include_colab_link": true
    },
    "kernelspec": {
      "name": "python3",
      "display_name": "Python 3"
    },
    "language_info": {
      "name": "python"
    }
  },
  "cells": [
    {
      "cell_type": "markdown",
      "metadata": {
        "id": "view-in-github",
        "colab_type": "text"
      },
      "source": [
        "<a href=\"https://colab.research.google.com/github/shanojpillai/OOP-Python/blob/main/OOP_Day1.ipynb\" target=\"_parent\"><img src=\"https://colab.research.google.com/assets/colab-badge.svg\" alt=\"Open In Colab\"/></a>"
      ]
    },
    {
      "cell_type": "markdown",
      "source": [
        "Exercise -1 "
      ],
      "metadata": {
        "id": "2qO9BhyLzVkY"
      }
    },
    {
      "cell_type": "code",
      "source": [
        "import sys\n",
        "\n",
        "print(sys.version.split()[0])"
      ],
      "metadata": {
        "colab": {
          "base_uri": "https://localhost:8080/"
        },
        "id": "Yi4jwu9m7z_m",
        "outputId": "19b85eea-3b45-4514-95b5-229fdc28f2fb"
      },
      "execution_count": 2,
      "outputs": [
        {
          "output_type": "stream",
          "name": "stdout",
          "text": [
            "3.8.16\n"
          ]
        }
      ]
    },
    {
      "cell_type": "code",
      "source": [
        "from os import name\n",
        "import datetime\n",
        "\n",
        "for name in sorted(datetime.__dict__):\n",
        "    print(name)"
      ],
      "metadata": {
        "colab": {
          "base_uri": "https://localhost:8080/"
        },
        "id": "JUyY6r4M8KL_",
        "outputId": "29b60565-6723-4b5b-c35d-4078ac4eaa8d"
      },
      "execution_count": 4,
      "outputs": [
        {
          "output_type": "stream",
          "name": "stdout",
          "text": [
            "MAXYEAR\n",
            "MINYEAR\n",
            "__builtins__\n",
            "__cached__\n",
            "__doc__\n",
            "__file__\n",
            "__loader__\n",
            "__name__\n",
            "__package__\n",
            "__spec__\n",
            "date\n",
            "datetime\n",
            "datetime_CAPI\n",
            "sys\n",
            "time\n",
            "timedelta\n",
            "timezone\n",
            "tzinfo\n"
          ]
        }
      ]
    },
    {
      "cell_type": "markdown",
      "source": [
        "The __dict__ in Python represents a dictionary or any mapping object that is used to store the attributes of the object. They are also known as mappingproxy objects. To put it simply, every object in Python has an attribute that is denoted by __dict__."
      ],
      "metadata": {
        "id": "6Q9CSx30_Ppg"
      }
    },
    {
      "cell_type": "code",
      "execution_count": 1,
      "metadata": {
        "colab": {
          "base_uri": "https://localhost:8080/"
        },
        "id": "1FqYLL3syjF-",
        "outputId": "4bde4a98-cf63-4b69-930c-65767d6ae4f6"
      },
      "outputs": [
        {
          "output_type": "stream",
          "name": "stdout",
          "text": [
            "Withdrawal Failed for A123\n",
            "Your account balance is 5000\n",
            "Withdrawal Failed for B1234\n",
            "Your account balance is 900\n"
          ]
        }
      ],
      "source": [
        "class Account:\n",
        "    def __init__(self, account_number, account_balance):\n",
        "        self.account_number = account_number\n",
        "        self.account_balance = account_balance\n",
        "\n",
        "    def withdraw(self, amount):\n",
        "        if self.account_balance - amount > 0:\n",
        "            self.account_balance = self.account_balance - amount\n",
        "        else:\n",
        "            print(\"Withdrawal Failed for {}\".format(self.account_number))\n",
        "\n",
        "\n",
        "    def display(self):\n",
        "        print(\"Your account balance is {}\".format(self.account_balance))\n",
        "\n",
        "\n",
        "\n",
        "account_one = Account('A123', 5000)\n",
        "account_two = Account('B1234', 900)\n",
        "\n",
        "account_one.withdraw(7600)\n",
        "account_one.display()\n",
        "\n",
        "account_two.withdraw(2100)\n",
        "account_two.display()"
      ]
    },
    {
      "cell_type": "markdown",
      "source": [
        "Exercise -2"
      ],
      "metadata": {
        "id": "uHyTFmj5zTr-"
      }
    },
    {
      "cell_type": "code",
      "source": [
        "class student:\n",
        "    def __init__(self, name, id, physics, chemistry, maths):\n",
        "        self.name = name\n",
        "        self.id = id\n",
        "        self.physics = physics\n",
        "        self.chemistry = chemistry\n",
        "        self.maths = maths\n",
        "\n",
        "\n",
        "    def find_total(self):\n",
        "        self.total = self.physics + self.chemistry + self.maths\n",
        "        print(\"Total mark is {}\". format(self.total))\n",
        "\n",
        "\n",
        "\n",
        "s1 = student('Meena', 's123', 90, 79, 100)\n",
        "\n",
        "s1.find_total()"
      ],
      "metadata": {
        "colab": {
          "base_uri": "https://localhost:8080/"
        },
        "id": "y3ZMqqibzgWc",
        "outputId": "e2c608a7-3a0b-4d15-f8d3-6fabba4771a8"
      },
      "execution_count": 5,
      "outputs": [
        {
          "output_type": "stream",
          "name": "stdout",
          "text": [
            "Total mark is 269\n"
          ]
        }
      ]
    },
    {
      "cell_type": "markdown",
      "source": [
        "The Product class is given below. Display the namespace (value of the __dict__ attribute) of this class as shown below.\n",
        "\n",
        "\n",
        "\n",
        "Expected result:\n",
        "\n",
        "\n",
        "\n",
        "__module__\n",
        "__init__\n",
        "__repr__\n",
        "get_id\n",
        "__dict__\n",
        "__weakref__\n",
        "__doc__"
      ],
      "metadata": {
        "id": "RMgj69bUBw8W"
      }
    },
    {
      "cell_type": "code",
      "source": [
        "import uuid\n",
        "\n",
        "class product:\n",
        "    def __init__(self, product_name, price):\n",
        "        self.product_id = self.get_id()\n",
        "        self.product_name = self.product_name\n",
        "        self.price = self.price\n",
        "\n",
        "\n",
        "\n",
        "    def __repr__(self):\n",
        "        return (\n",
        "            f\"product(product_name = '{self.product_name}',\"\n",
        "            f\"price={self.price})\"\n",
        "        )\n",
        "\n",
        "\n",
        "    @staticmethod\n",
        "    def get_id():\n",
        "        return str(uuid.uuid4().fields[-1])[:6]\n",
        "\n",
        "\n",
        "for name in product.__dict__:\n",
        "        print(name)"
      ],
      "metadata": {
        "colab": {
          "base_uri": "https://localhost:8080/"
        },
        "id": "JUL_u4nQBznH",
        "outputId": "98f53d82-d2aa-4527-98ae-3264755ebd13"
      },
      "execution_count": 6,
      "outputs": [
        {
          "output_type": "stream",
          "name": "stdout",
          "text": [
            "__module__\n",
            "__init__\n",
            "__repr__\n",
            "get_id\n",
            "__dict__\n",
            "__weakref__\n",
            "__doc__\n"
          ]
        }
      ]
    }
  ]
}