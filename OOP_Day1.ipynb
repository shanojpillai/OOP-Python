{
  "nbformat": 4,
  "nbformat_minor": 0,
  "metadata": {
    "colab": {
      "provenance": [],
      "authorship_tag": "ABX9TyM1EuqXdHanpTY195LrQl/K",
      "include_colab_link": true
    },
    "kernelspec": {
      "name": "python3",
      "display_name": "Python 3"
    },
    "language_info": {
      "name": "python"
    }
  },
  "cells": [
    {
      "cell_type": "markdown",
      "metadata": {
        "id": "view-in-github",
        "colab_type": "text"
      },
      "source": [
        "<a href=\"https://colab.research.google.com/github/shanojpillai/OOP-Python/blob/main/OOP_Day1.ipynb\" target=\"_parent\"><img src=\"https://colab.research.google.com/assets/colab-badge.svg\" alt=\"Open In Colab\"/></a>"
      ]
    },
    {
      "cell_type": "markdown",
      "source": [
        "Exercise -1 "
      ],
      "metadata": {
        "id": "2qO9BhyLzVkY"
      }
    },
    {
      "cell_type": "code",
      "source": [
        "import sys\n",
        "\n",
        "print(sys.version.split()[0])"
      ],
      "metadata": {
        "colab": {
          "base_uri": "https://localhost:8080/"
        },
        "id": "Yi4jwu9m7z_m",
        "outputId": "19b85eea-3b45-4514-95b5-229fdc28f2fb"
      },
      "execution_count": 2,
      "outputs": [
        {
          "output_type": "stream",
          "name": "stdout",
          "text": [
            "3.8.16\n"
          ]
        }
      ]
    },
    {
      "cell_type": "code",
      "source": [
        "from os import name\n",
        "import datetime\n",
        "\n",
        "for name in sorted(datetime.__dict__):\n",
        "    print(name)"
      ],
      "metadata": {
        "colab": {
          "base_uri": "https://localhost:8080/"
        },
        "id": "JUyY6r4M8KL_",
        "outputId": "29b60565-6723-4b5b-c35d-4078ac4eaa8d"
      },
      "execution_count": 4,
      "outputs": [
        {
          "output_type": "stream",
          "name": "stdout",
          "text": [
            "MAXYEAR\n",
            "MINYEAR\n",
            "__builtins__\n",
            "__cached__\n",
            "__doc__\n",
            "__file__\n",
            "__loader__\n",
            "__name__\n",
            "__package__\n",
            "__spec__\n",
            "date\n",
            "datetime\n",
            "datetime_CAPI\n",
            "sys\n",
            "time\n",
            "timedelta\n",
            "timezone\n",
            "tzinfo\n"
          ]
        }
      ]
    },
    {
      "cell_type": "markdown",
      "source": [
        "The __dict__ in Python represents a dictionary or any mapping object that is used to store the attributes of the object. They are also known as mappingproxy objects. To put it simply, every object in Python has an attribute that is denoted by __dict__."
      ],
      "metadata": {
        "id": "6Q9CSx30_Ppg"
      }
    },
    {
      "cell_type": "code",
      "execution_count": 1,
      "metadata": {
        "colab": {
          "base_uri": "https://localhost:8080/"
        },
        "id": "1FqYLL3syjF-",
        "outputId": "4bde4a98-cf63-4b69-930c-65767d6ae4f6"
      },
      "outputs": [
        {
          "output_type": "stream",
          "name": "stdout",
          "text": [
            "Withdrawal Failed for A123\n",
            "Your account balance is 5000\n",
            "Withdrawal Failed for B1234\n",
            "Your account balance is 900\n"
          ]
        }
      ],
      "source": [
        "class Account:\n",
        "    def __init__(self, account_number, account_balance):\n",
        "        self.account_number = account_number\n",
        "        self.account_balance = account_balance\n",
        "\n",
        "    def withdraw(self, amount):\n",
        "        if self.account_balance - amount > 0:\n",
        "            self.account_balance = self.account_balance - amount\n",
        "        else:\n",
        "            print(\"Withdrawal Failed for {}\".format(self.account_number))\n",
        "\n",
        "\n",
        "    def display(self):\n",
        "        print(\"Your account balance is {}\".format(self.account_balance))\n",
        "\n",
        "\n",
        "\n",
        "account_one = Account('A123', 5000)\n",
        "account_two = Account('B1234', 900)\n",
        "\n",
        "account_one.withdraw(7600)\n",
        "account_one.display()\n",
        "\n",
        "account_two.withdraw(2100)\n",
        "account_two.display()"
      ]
    },
    {
      "cell_type": "markdown",
      "source": [
        "Exercise -2"
      ],
      "metadata": {
        "id": "uHyTFmj5zTr-"
      }
    },
    {
      "cell_type": "code",
      "source": [],
      "metadata": {
        "id": "y3ZMqqibzgWc"
      },
      "execution_count": null,
      "outputs": []
    }
  ]
}