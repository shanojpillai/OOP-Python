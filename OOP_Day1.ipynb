{
  "nbformat": 4,
  "nbformat_minor": 0,
  "metadata": {
    "colab": {
      "provenance": [],
      "authorship_tag": "ABX9TyO3TOVXm4NN/5piVLv1VGmG",
      "include_colab_link": true
    },
    "kernelspec": {
      "name": "python3",
      "display_name": "Python 3"
    },
    "language_info": {
      "name": "python"
    }
  },
  "cells": [
    {
      "cell_type": "markdown",
      "metadata": {
        "id": "view-in-github",
        "colab_type": "text"
      },
      "source": [
        "<a href=\"https://colab.research.google.com/github/shanojpillai/OOP-Python/blob/main/OOP_Day1.ipynb\" target=\"_parent\"><img src=\"https://colab.research.google.com/assets/colab-badge.svg\" alt=\"Open In Colab\"/></a>"
      ]
    },
    {
      "cell_type": "markdown",
      "source": [
        "Exercise -1 "
      ],
      "metadata": {
        "id": "2qO9BhyLzVkY"
      }
    },
    {
      "cell_type": "code",
      "execution_count": 1,
      "metadata": {
        "colab": {
          "base_uri": "https://localhost:8080/"
        },
        "id": "1FqYLL3syjF-",
        "outputId": "4bde4a98-cf63-4b69-930c-65767d6ae4f6"
      },
      "outputs": [
        {
          "output_type": "stream",
          "name": "stdout",
          "text": [
            "Withdrawal Failed for A123\n",
            "Your account balance is 5000\n",
            "Withdrawal Failed for B1234\n",
            "Your account balance is 900\n"
          ]
        }
      ],
      "source": [
        "class Account:\n",
        "    def __init__(self, account_number, account_balance):\n",
        "        self.account_number = account_number\n",
        "        self.account_balance = account_balance\n",
        "\n",
        "    def withdraw(self, amount):\n",
        "        if self.account_balance - amount > 0:\n",
        "            self.account_balance = self.account_balance - amount\n",
        "        else:\n",
        "            print(\"Withdrawal Failed for {}\".format(self.account_number))\n",
        "\n",
        "\n",
        "    def display(self):\n",
        "        print(\"Your account balance is {}\".format(self.account_balance))\n",
        "\n",
        "\n",
        "\n",
        "account_one = Account('A123', 5000)\n",
        "account_two = Account('B1234', 900)\n",
        "\n",
        "account_one.withdraw(7600)\n",
        "account_one.display()\n",
        "\n",
        "account_two.withdraw(2100)\n",
        "account_two.display()"
      ]
    },
    {
      "cell_type": "markdown",
      "source": [
        "Exercise -2"
      ],
      "metadata": {
        "id": "uHyTFmj5zTr-"
      }
    },
    {
      "cell_type": "code",
      "source": [],
      "metadata": {
        "id": "y3ZMqqibzgWc"
      },
      "execution_count": null,
      "outputs": []
    }
  ]
}